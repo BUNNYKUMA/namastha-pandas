{
  "nbformat": 4,
  "nbformat_minor": 0,
  "metadata": {
    "colab": {
      "name": "pyspark into.ipynb",
      "provenance": [],
      "mount_file_id": "14p424Z_tDx9f8DoMadjzBxkfmphYQeFP",
      "authorship_tag": "ABX9TyNhkDacVRXySYXK2PKJOaTt",
      "include_colab_link": true
    },
    "kernelspec": {
      "name": "python3",
      "display_name": "Python 3"
    },
    "language_info": {
      "name": "python"
    }
  },
  "cells": [
    {
      "cell_type": "markdown",
      "metadata": {
        "id": "view-in-github",
        "colab_type": "text"
      },
      "source": [
        "<a href=\"https://colab.research.google.com/github/BUNNYKUMA/namastha-pandas/blob/main/pyspark_into.ipynb\" target=\"_parent\"><img src=\"https://colab.research.google.com/assets/colab-badge.svg\" alt=\"Open In Colab\"/></a>"
      ]
    },
    {
      "cell_type": "markdown",
      "source": [
        "\n",
        "<b>the notebook cover </b><br>\n",
        "<b>-pySpark dataframe</b><br>\n",
        "<b>-reading the dataset</b><br>\n",
        "<b>-checking the Datatype of the column</b><br>\n",
        "<b>-selecting columns and indexing</b><br>\n",
        "<b>-check Describe option similar to pandas</b><br>\n",
        "<b>-adding colums</b><br>\n",
        "<b>-Dropping colums </b><br>"
      ],
      "metadata": {
        "id": "UjzQ0ZMSIHI6"
      }
    },
    {
      "cell_type": "code",
      "source": [
        "# !!pip install pyspark"
      ],
      "metadata": {
        "id": "G0xx1HJN8_gc"
      },
      "execution_count": 4,
      "outputs": []
    },
    {
      "cell_type": "code",
      "execution_count": 5,
      "metadata": {
        "id": "JL5XcIha87iI"
      },
      "outputs": [],
      "source": [
        "from pyspark.sql import SparkSession"
      ]
    },
    {
      "cell_type": "code",
      "source": [
        "spark = SparkSession.builder.appName('pratice').getOrCreate()"
      ],
      "metadata": {
        "id": "DyMpn0Cd9FvL"
      },
      "execution_count": 6,
      "outputs": []
    },
    {
      "cell_type": "code",
      "source": [
        "spark"
      ],
      "metadata": {
        "colab": {
          "base_uri": "https://localhost:8080/",
          "height": 222
        },
        "id": "MTBl12na9NI3",
        "outputId": "2e0a49d1-e622-400f-db23-4c7a8b38f910"
      },
      "execution_count": 7,
      "outputs": [
        {
          "output_type": "execute_result",
          "data": {
            "text/html": [
              "\n",
              "            <div>\n",
              "                <p><b>SparkSession - in-memory</b></p>\n",
              "                \n",
              "        <div>\n",
              "            <p><b>SparkContext</b></p>\n",
              "\n",
              "            <p><a href=\"http://39332dba5fd7:4040\">Spark UI</a></p>\n",
              "\n",
              "            <dl>\n",
              "              <dt>Version</dt>\n",
              "                <dd><code>v3.2.1</code></dd>\n",
              "              <dt>Master</dt>\n",
              "                <dd><code>local[*]</code></dd>\n",
              "              <dt>AppName</dt>\n",
              "                <dd><code>pratice</code></dd>\n",
              "            </dl>\n",
              "        </div>\n",
              "        \n",
              "            </div>\n",
              "        "
            ],
            "text/plain": [
              "<pyspark.sql.session.SparkSession at 0x7fce677bd390>"
            ]
          },
          "metadata": {},
          "execution_count": 7
        }
      ]
    },
    {
      "cell_type": "code",
      "source": [
        "df = spark.read.csv('/content/drive/MyDrive/Colab Notebooks/COVID-19_Vaccinations_in_the_United_States_County.csv')"
      ],
      "metadata": {
        "id": "-gWPh10_9NFn"
      },
      "execution_count": 19,
      "outputs": []
    },
    {
      "cell_type": "markdown",
      "source": [
        "<b>read the dataset</b>\n"
      ],
      "metadata": {
        "id": "2K2OdkcS-7nR"
      }
    },
    {
      "cell_type": "code",
      "source": [
        "df_pyspark = spark.read.option('header','true').csv('/content/drive/MyDrive/Colab Notebooks/COVID-19_Vaccinations_in_the_United_States_County.csv')"
      ],
      "metadata": {
        "id": "xoO8hOA69NC5"
      },
      "execution_count": 20,
      "outputs": []
    },
    {
      "cell_type": "markdown",
      "source": [
        "**check the schema**"
      ],
      "metadata": {
        "id": "HihmnA0j_Kul"
      }
    },
    {
      "cell_type": "code",
      "source": [
        "df_pyspark.printSchema()"
      ],
      "metadata": {
        "colab": {
          "base_uri": "https://localhost:8080/"
        },
        "id": "wSONCXNB9sLO",
        "outputId": "7c3569c5-2c13-45aa-b7fd-383a336e04c6"
      },
      "execution_count": 21,
      "outputs": [
        {
          "output_type": "stream",
          "name": "stdout",
          "text": [
            "root\n",
            " |-- Date: string (nullable = true)\n",
            " |-- FIPS: string (nullable = true)\n",
            " |-- MMWR_week: string (nullable = true)\n",
            " |-- Recip_County: string (nullable = true)\n",
            " |-- Recip_State: string (nullable = true)\n",
            " |-- Series_Complete_Pop_Pct: string (nullable = true)\n",
            " |-- Series_Complete_Yes: string (nullable = true)\n",
            " |-- Series_Complete_12Plus: string (nullable = true)\n",
            " |-- Series_Complete_12PlusPop_Pct: string (nullable = true)\n",
            " |-- Series_Complete_18Plus: string (nullable = true)\n",
            " |-- Series_Complete_18PlusPop_Pct: string (nullable = true)\n",
            " |-- Series_Complete_65Plus: string (nullable = true)\n",
            " |-- Series_Complete_65PlusPop_Pct: string (nullable = true)\n",
            " |-- Completeness_pct: string (nullable = true)\n",
            " |-- Administered_Dose1_Recip: string (nullable = true)\n",
            " |-- Administered_Dose1_Pop_Pct: string (nullable = true)\n",
            " |-- Administered_Dose1_Recip_12Plus: string (nullable = true)\n",
            " |-- Administered_Dose1_Recip_12PlusPop_Pct: string (nullable = true)\n",
            " |-- Administered_Dose1_Recip_18Plus: string (nullable = true)\n",
            " |-- Administered_Dose1_Recip_18PlusPop_Pct: string (nullable = true)\n",
            " |-- Administered_Dose1_Recip_65Plus: string (nullable = true)\n",
            " |-- Administered_Dose1_Recip_65PlusPop_Pct: string (nullable = true)\n",
            " |-- SVI_CTGY: string (nullable = true)\n",
            " |-- Series_Complete_Pop_Pct_SVI: string (nullable = true)\n",
            " |-- Series_Complete_12PlusPop_Pct_SVI: string (nullable = true)\n",
            " |-- Series_Complete_18PlusPop_Pct_SVI: string (nullable = true)\n",
            " |-- Series_Complete_65PlusPop_Pct_SVI: string (nullable = true)\n",
            " |-- Metro_status: string (nullable = true)\n",
            " |-- Series_Complete_Pop_Pct_UR_Equity: string (nullable = true)\n",
            " |-- Series_Complete_12PlusPop_Pct_UR_Equity: string (nullable = true)\n",
            " |-- Series_Complete_18PlusPop_Pct_UR_Equity: string (nullable = true)\n",
            " |-- Series_Complete_65PlusPop_Pct_UR_Equity: string (nullable = true)\n",
            "\n"
          ]
        }
      ]
    },
    {
      "cell_type": "code",
      "source": [
        "# df2_pyspark = spark.read.csv('/content/drive/MyDrive/Colab Notebooks/COVID-19_Vaccinations_in_the_United_States_County.csv',footer=True,inferSchema=True)"
      ],
      "metadata": {
        "id": "xiwwkaEm_6Pi"
      },
      "execution_count": 23,
      "outputs": []
    },
    {
      "cell_type": "code",
      "source": [
        "type(df_pyspark)"
      ],
      "metadata": {
        "colab": {
          "base_uri": "https://localhost:8080/"
        },
        "id": "GFlvCHZvBOMv",
        "outputId": "dd8622c4-fc92-4005-e5ad-36b26a75911f"
      },
      "execution_count": 24,
      "outputs": [
        {
          "output_type": "execute_result",
          "data": {
            "text/plain": [
              "pyspark.sql.dataframe.DataFrame"
            ]
          },
          "metadata": {},
          "execution_count": 24
        }
      ]
    },
    {
      "cell_type": "code",
      "source": [
        "df1_pyspark.head(5)"
      ],
      "metadata": {
        "colab": {
          "base_uri": "https://localhost:8080/"
        },
        "id": "vbLRlxeWBiV1",
        "outputId": "66567cc5-9772-498e-cfa1-42cfed5a2f86"
      },
      "execution_count": 26,
      "outputs": [
        {
          "output_type": "execute_result",
          "data": {
            "text/plain": [
              "[Row(Date='11/18/2021', FIPS='05075', MMWR_week=46, Recip_County='Lawrence County', Recip_State='AR', Series_Complete_Pop_Pct=42.3, Series_Complete_Yes=6938, Series_Complete_12Plus=6938, Series_Complete_12PlusPop_Pct=49.4, Series_Complete_18Plus=6534, Series_Complete_18PlusPop_Pct=51.2, Series_Complete_65Plus=2368, Series_Complete_65PlusPop_Pct=72.5, Completeness_pct=90.3, Administered_Dose1_Recip=8148, Administered_Dose1_Pop_Pct=49.7, Administered_Dose1_Recip_12Plus=8127, Administered_Dose1_Recip_12PlusPop_Pct=57.8, Administered_Dose1_Recip_18Plus=7650, Administered_Dose1_Recip_18PlusPop_Pct=59.9, Administered_Dose1_Recip_65Plus=2701, Administered_Dose1_Recip_65PlusPop_Pct=82.6, SVI_CTGY='C', Series_Complete_Pop_Pct_SVI=11, Series_Complete_12PlusPop_Pct_SVI=11, Series_Complete_18PlusPop_Pct_SVI=12, Series_Complete_65PlusPop_Pct_SVI=12, Metro_status='Non-metro', Series_Complete_Pop_Pct_UR_Equity=7, Series_Complete_12PlusPop_Pct_UR_Equity=7, Series_Complete_18PlusPop_Pct_UR_Equity=8, Series_Complete_65PlusPop_Pct_UR_Equity=8),\n",
              " Row(Date='11/18/2021', FIPS='01053', MMWR_week=46, Recip_County='Escambia County', Recip_State='AL', Series_Complete_Pop_Pct=33.1, Series_Complete_Yes=12112, Series_Complete_12Plus=12112, Series_Complete_12PlusPop_Pct=38.8, Series_Complete_18Plus=11677, Series_Complete_18PlusPop_Pct=41.1, Series_Complete_65Plus=4562, Series_Complete_65PlusPop_Pct=68.2, Completeness_pct=92.6, Administered_Dose1_Recip=15552, Administered_Dose1_Pop_Pct=42.5, Administered_Dose1_Recip_12Plus=15543, Administered_Dose1_Recip_12PlusPop_Pct=49.8, Administered_Dose1_Recip_18Plus=14991, Administered_Dose1_Recip_18PlusPop_Pct=52.8, Administered_Dose1_Recip_65Plus=5835, Administered_Dose1_Recip_65PlusPop_Pct=87.2, SVI_CTGY='D', Series_Complete_Pop_Pct_SVI=14, Series_Complete_12PlusPop_Pct_SVI=14, Series_Complete_18PlusPop_Pct_SVI=15, Series_Complete_65PlusPop_Pct_SVI=15, Metro_status='Non-metro', Series_Complete_Pop_Pct_UR_Equity=6, Series_Complete_12PlusPop_Pct_UR_Equity=6, Series_Complete_18PlusPop_Pct_UR_Equity=7, Series_Complete_65PlusPop_Pct_UR_Equity=7),\n",
              " Row(Date='11/18/2021', FIPS='19171', MMWR_week=46, Recip_County='Tama County', Recip_State='IA', Series_Complete_Pop_Pct=58.0, Series_Complete_Yes=9777, Series_Complete_12Plus=9777, Series_Complete_12PlusPop_Pct=68.8, Series_Complete_18Plus=9132, Series_Complete_18PlusPop_Pct=71.3, Series_Complete_65Plus=3057, Series_Complete_65PlusPop_Pct=91.1, Completeness_pct=97.4, Administered_Dose1_Recip=10430, Administered_Dose1_Pop_Pct=61.9, Administered_Dose1_Recip_12Plus=10400, Administered_Dose1_Recip_12PlusPop_Pct=73.1, Administered_Dose1_Recip_18Plus=9659, Administered_Dose1_Recip_18PlusPop_Pct=75.4, Administered_Dose1_Recip_65Plus=3140, Administered_Dose1_Recip_65PlusPop_Pct=93.6, SVI_CTGY='B', Series_Complete_Pop_Pct_SVI=8, Series_Complete_12PlusPop_Pct_SVI=8, Series_Complete_18PlusPop_Pct_SVI=8, Series_Complete_65PlusPop_Pct_SVI=8, Metro_status='Non-metro', Series_Complete_Pop_Pct_UR_Equity=8, Series_Complete_12PlusPop_Pct_UR_Equity=8, Series_Complete_18PlusPop_Pct_UR_Equity=8, Series_Complete_65PlusPop_Pct_UR_Equity=8),\n",
              " Row(Date='11/18/2021', FIPS='06043', MMWR_week=46, Recip_County='Mariposa County', Recip_State='CA', Series_Complete_Pop_Pct=0.0, Series_Complete_Yes=0, Series_Complete_12Plus=0, Series_Complete_12PlusPop_Pct=0.0, Series_Complete_18Plus=0, Series_Complete_18PlusPop_Pct=0.0, Series_Complete_65Plus=0, Series_Complete_65PlusPop_Pct=0.0, Completeness_pct=0.0, Administered_Dose1_Recip=0, Administered_Dose1_Pop_Pct=0.0, Administered_Dose1_Recip_12Plus=0, Administered_Dose1_Recip_12PlusPop_Pct=0.0, Administered_Dose1_Recip_18Plus=0, Administered_Dose1_Recip_18PlusPop_Pct=0.0, Administered_Dose1_Recip_65Plus=0, Administered_Dose1_Recip_65PlusPop_Pct=0.0, SVI_CTGY='C', Series_Complete_Pop_Pct_SVI=None, Series_Complete_12PlusPop_Pct_SVI=None, Series_Complete_18PlusPop_Pct_SVI=None, Series_Complete_65PlusPop_Pct_SVI=None, Metro_status='Non-metro', Series_Complete_Pop_Pct_UR_Equity=None, Series_Complete_12PlusPop_Pct_UR_Equity=None, Series_Complete_18PlusPop_Pct_UR_Equity=None, Series_Complete_65PlusPop_Pct_UR_Equity=None),\n",
              " Row(Date='11/18/2021', FIPS='19097', MMWR_week=46, Recip_County='Jackson County', Recip_State='IA', Series_Complete_Pop_Pct=49.2, Series_Complete_Yes=9568, Series_Complete_12Plus=9568, Series_Complete_12PlusPop_Pct=57.4, Series_Complete_18Plus=9217, Series_Complete_18PlusPop_Pct=60.9, Series_Complete_65Plus=3491, Series_Complete_65PlusPop_Pct=84.3, Completeness_pct=97.4, Administered_Dose1_Recip=10100, Administered_Dose1_Pop_Pct=52.0, Administered_Dose1_Recip_12Plus=10026, Administered_Dose1_Recip_12PlusPop_Pct=60.1, Administered_Dose1_Recip_18Plus=9640, Administered_Dose1_Recip_18PlusPop_Pct=63.7, Administered_Dose1_Recip_65Plus=3631, Administered_Dose1_Recip_65PlusPop_Pct=87.7, SVI_CTGY='A', Series_Complete_Pop_Pct_SVI=3, Series_Complete_12PlusPop_Pct_SVI=4, Series_Complete_18PlusPop_Pct_SVI=4, Series_Complete_65PlusPop_Pct_SVI=4, Metro_status='Non-metro', Series_Complete_Pop_Pct_UR_Equity=7, Series_Complete_12PlusPop_Pct_UR_Equity=8, Series_Complete_18PlusPop_Pct_UR_Equity=8, Series_Complete_65PlusPop_Pct_UR_Equity=8)]"
            ]
          },
          "metadata": {},
          "execution_count": 26
        }
      ]
    },
    {
      "cell_type": "markdown",
      "source": [
        "**like slicing**"
      ],
      "metadata": {
        "id": "PpAGlGI2Cswx"
      }
    },
    {
      "cell_type": "code",
      "source": [
        "df_pyspark.select('Recip_County','Series_Complete_Pop_Pct').show()"
      ],
      "metadata": {
        "colab": {
          "base_uri": "https://localhost:8080/"
        },
        "id": "ai7XvSF9BvRq",
        "outputId": "77bd2586-1e3a-499b-fa0c-6f71aeef02ac"
      },
      "execution_count": 34,
      "outputs": [
        {
          "output_type": "stream",
          "name": "stdout",
          "text": [
            "+--------------------+-----------------------+\n",
            "|        Recip_County|Series_Complete_Pop_Pct|\n",
            "+--------------------+-----------------------+\n",
            "|     Lawrence County|                   42.3|\n",
            "|     Escambia County|                   33.1|\n",
            "|         Tama County|                     58|\n",
            "|     Mariposa County|                      0|\n",
            "|      Jackson County|                   49.2|\n",
            "|       Barren County|                   41.5|\n",
            "|Lake of the Woods...|                   51.8|\n",
            "|     Lajas Municipio|                   70.7|\n",
            "|     Alamance County|                   52.5|\n",
            "|    Nome Census Area|                   61.9|\n",
            "|      Lincoln County|                   35.8|\n",
            "|         Rusk County|                   34.4|\n",
            "|        Rains County|                   33.6|\n",
            "|     Isabella County|                   41.4|\n",
            "|     Plymouth County|                   62.4|\n",
            "|Jefferson Davis C...|                   40.4|\n",
            "|     Guilford County|                     55|\n",
            "|     Charlton County|                   12.9|\n",
            "|     Franklin County|                   40.9|\n",
            "|     McIntosh County|                   36.2|\n",
            "+--------------------+-----------------------+\n",
            "only showing top 20 rows\n",
            "\n"
          ]
        }
      ]
    },
    {
      "cell_type": "code",
      "source": [
        "df_pyspark['Recip_County']"
      ],
      "metadata": {
        "colab": {
          "base_uri": "https://localhost:8080/"
        },
        "id": "nzxgUQXNCA8G",
        "outputId": "9dac116b-b53d-41e4-d748-90e9b6647ede"
      },
      "execution_count": 35,
      "outputs": [
        {
          "output_type": "execute_result",
          "data": {
            "text/plain": [
              "Column<'Recip_County'>"
            ]
          },
          "metadata": {},
          "execution_count": 35
        }
      ]
    },
    {
      "cell_type": "markdown",
      "source": [
        "dtypes"
      ],
      "metadata": {
        "id": "4nslnsWvDlWY"
      }
    },
    {
      "cell_type": "code",
      "source": [
        "# df_pyspark.dtypes"
      ],
      "metadata": {
        "id": "W3VqOwAkDTkL"
      },
      "execution_count": 37,
      "outputs": []
    },
    {
      "cell_type": "code",
      "source": [
        "df_pyspark.describe().show()"
      ],
      "metadata": {
        "colab": {
          "base_uri": "https://localhost:8080/"
        },
        "id": "AwmUDQ4dDuCM",
        "outputId": "52ac8320-23ba-4ffc-c30e-752c37b9bcde"
      },
      "execution_count": 39,
      "outputs": [
        {
          "output_type": "stream",
          "name": "stdout",
          "text": [
            "+-------+----------+------------------+------------------+----------------+-----------+-----------------------+-------------------+----------------------+-----------------------------+----------------------+-----------------------------+----------------------+-----------------------------+-----------------+------------------------+--------------------------+-------------------------------+--------------------------------------+-------------------------------+--------------------------------------+-------------------------------+--------------------------------------+--------+---------------------------+---------------------------------+---------------------------------+---------------------------------+------------+---------------------------------+---------------------------------------+---------------------------------------+---------------------------------------+\n",
            "|summary|      Date|              FIPS|         MMWR_week|    Recip_County|Recip_State|Series_Complete_Pop_Pct|Series_Complete_Yes|Series_Complete_12Plus|Series_Complete_12PlusPop_Pct|Series_Complete_18Plus|Series_Complete_18PlusPop_Pct|Series_Complete_65Plus|Series_Complete_65PlusPop_Pct| Completeness_pct|Administered_Dose1_Recip|Administered_Dose1_Pop_Pct|Administered_Dose1_Recip_12Plus|Administered_Dose1_Recip_12PlusPop_Pct|Administered_Dose1_Recip_18Plus|Administered_Dose1_Recip_18PlusPop_Pct|Administered_Dose1_Recip_65Plus|Administered_Dose1_Recip_65PlusPop_Pct|SVI_CTGY|Series_Complete_Pop_Pct_SVI|Series_Complete_12PlusPop_Pct_SVI|Series_Complete_18PlusPop_Pct_SVI|Series_Complete_65PlusPop_Pct_SVI|Metro_status|Series_Complete_Pop_Pct_UR_Equity|Series_Complete_12PlusPop_Pct_UR_Equity|Series_Complete_18PlusPop_Pct_UR_Equity|Series_Complete_65PlusPop_Pct_UR_Equity|\n",
            "+-------+----------+------------------+------------------+----------------+-----------+-----------------------+-------------------+----------------------+-----------------------------+----------------------+-----------------------------+----------------------+-----------------------------+-----------------+------------------------+--------------------------+-------------------------------+--------------------------------------+-------------------------------+--------------------------------------+-------------------------------+--------------------------------------+--------+---------------------------+---------------------------------+---------------------------------+---------------------------------+------------+---------------------------------+---------------------------------------+---------------------------------------+---------------------------------------+\n",
            "|  count|   1122477|           1122477|           1122477|         1122477|    1122477|                1122477|            1122477|               1107086|                      1107086|               1122477|                      1122477|               1122477|                      1122477|          1122477|                 1087216|                   1122477|                        1045522|                               1107086|                        1060714|                               1122477|                        1060714|                               1122477| 1101109|                     898033|                           884691|                           898033|                           898033|     1101109|                           897164|                                 883956|                                 897376|                                 896658|\n",
            "|   mean|      null| 31447.75985404703|25.173281056092907|            null|       null|      22.95635652222731|  30528.45116915536|    30790.598631000663|            26.69480564292207|    29160.255837758814|           28.316213962512926|     8785.348497118426|             42.9067638802367|73.48135712357026|      38667.831738127476|        26.527689565131123|               39338.1334386077|                     29.93667655448643|             37116.964357970195|                     31.66995243555048|             11030.123505487813|                    47.119398170293245|    null|          7.704440705408376|                 8.02821437089334|                8.153607940910858|                8.577711509487958|        null|               4.3061892808895585|                      4.614650502966211|                      4.754951101879257|                      5.182701765890674|\n",
            "| stddev|      null|16352.757841655728|14.538595130367499|            null|       null|     19.585801068543493| 135318.56566227527|    136036.38177498692|           22.745891337606107|    127778.16579271488|           23.663077253839404|    31647.644575300026|           32.710044664801934| 37.0728843315989|      168244.75825449338|         21.81520943849766|              170873.7193742281|                    25.534700384289618|              160034.7878480994|                    26.437854607009935|             39546.314254923964|                    35.373842882813754|    null|          4.439139981475431|               4.4814871795811655|                4.485610709933495|                4.510763402674233|        null|                2.111271609542981|                     2.2142494772163963|                     2.2523759419250995|                     2.2497815363600484|\n",
            "|    min|01/01/2021|             01001|                 1|Abbeville County|         AK|                      0|                  0|                     0|                            0|                     0|                            0|                     0|                            0|                0|                       0|                         0|                              0|                                   0.0|                              0|                                     0|                              0|                                     0|       A|                          1|                                1|                                1|                                1|       Metro|                                1|                                      1|                                      1|                                      1|\n",
            "|    max|12/31/2020|               UNK|                 9|  Ziebach County|         WY|                   99.9|              99999|                 99997|                         99.9|                 99999|                         99.9|                999991|                         99.9|             99.9|                   99999|                      99.9|                          99999|                                  99.9|                          99999|                                  99.9|                           9999|                                  99.9|       D|                          9|                                9|                                9|                                9|   Non-metro|                                8|                                      8|                                      8|                                      8|\n",
            "+-------+----------+------------------+------------------+----------------+-----------+-----------------------+-------------------+----------------------+-----------------------------+----------------------+-----------------------------+----------------------+-----------------------------+-----------------+------------------------+--------------------------+-------------------------------+--------------------------------------+-------------------------------+--------------------------------------+-------------------------------+--------------------------------------+--------+---------------------------+---------------------------------+---------------------------------+---------------------------------+------------+---------------------------------+---------------------------------------+---------------------------------------+---------------------------------------+\n",
            "\n"
          ]
        }
      ]
    },
    {
      "cell_type": "code",
      "source": [
        "df1_pyspark = spark.read.csv('/content/drive/MyDrive/Colab Notebooks/COVID-19_Vaccinations_in_the_United_States_County.csv',header=True,inferSchema=True)\n",
        "df1_pyspark.show()"
      ],
      "metadata": {
        "colab": {
          "base_uri": "https://localhost:8080/"
        },
        "id": "yqrtEmMB9tpx",
        "outputId": "081b79de-473e-4472-ba54-abc5d78c095d"
      },
      "execution_count": 18,
      "outputs": [
        {
          "output_type": "stream",
          "name": "stdout",
          "text": [
            "+----------+-----+---------+--------------------+-----------+-----------------------+-------------------+----------------------+-----------------------------+----------------------+-----------------------------+----------------------+-----------------------------+----------------+------------------------+--------------------------+-------------------------------+--------------------------------------+-------------------------------+--------------------------------------+-------------------------------+--------------------------------------+--------+---------------------------+---------------------------------+---------------------------------+---------------------------------+------------+---------------------------------+---------------------------------------+---------------------------------------+---------------------------------------+\n",
            "|      Date| FIPS|MMWR_week|        Recip_County|Recip_State|Series_Complete_Pop_Pct|Series_Complete_Yes|Series_Complete_12Plus|Series_Complete_12PlusPop_Pct|Series_Complete_18Plus|Series_Complete_18PlusPop_Pct|Series_Complete_65Plus|Series_Complete_65PlusPop_Pct|Completeness_pct|Administered_Dose1_Recip|Administered_Dose1_Pop_Pct|Administered_Dose1_Recip_12Plus|Administered_Dose1_Recip_12PlusPop_Pct|Administered_Dose1_Recip_18Plus|Administered_Dose1_Recip_18PlusPop_Pct|Administered_Dose1_Recip_65Plus|Administered_Dose1_Recip_65PlusPop_Pct|SVI_CTGY|Series_Complete_Pop_Pct_SVI|Series_Complete_12PlusPop_Pct_SVI|Series_Complete_18PlusPop_Pct_SVI|Series_Complete_65PlusPop_Pct_SVI|Metro_status|Series_Complete_Pop_Pct_UR_Equity|Series_Complete_12PlusPop_Pct_UR_Equity|Series_Complete_18PlusPop_Pct_UR_Equity|Series_Complete_65PlusPop_Pct_UR_Equity|\n",
            "+----------+-----+---------+--------------------+-----------+-----------------------+-------------------+----------------------+-----------------------------+----------------------+-----------------------------+----------------------+-----------------------------+----------------+------------------------+--------------------------+-------------------------------+--------------------------------------+-------------------------------+--------------------------------------+-------------------------------+--------------------------------------+--------+---------------------------+---------------------------------+---------------------------------+---------------------------------+------------+---------------------------------+---------------------------------------+---------------------------------------+---------------------------------------+\n",
            "|11/18/2021|05075|       46|     Lawrence County|         AR|                   42.3|               6938|                  6938|                         49.4|                  6534|                         51.2|                  2368|                         72.5|            90.3|                    8148|                      49.7|                           8127|                                  57.8|                           7650|                                  59.9|                           2701|                                  82.6|       C|                         11|                               11|                               12|                               12|   Non-metro|                                7|                                      7|                                      8|                                      8|\n",
            "|11/18/2021|01053|       46|     Escambia County|         AL|                   33.1|              12112|                 12112|                         38.8|                 11677|                         41.1|                  4562|                         68.2|            92.6|                   15552|                      42.5|                          15543|                                  49.8|                          14991|                                  52.8|                           5835|                                  87.2|       D|                         14|                               14|                               15|                               15|   Non-metro|                                6|                                      6|                                      7|                                      7|\n",
            "|11/18/2021|19171|       46|         Tama County|         IA|                   58.0|               9777|                  9777|                         68.8|                  9132|                         71.3|                  3057|                         91.1|            97.4|                   10430|                      61.9|                          10400|                                  73.1|                           9659|                                  75.4|                           3140|                                  93.6|       B|                          8|                                8|                                8|                                8|   Non-metro|                                8|                                      8|                                      8|                                      8|\n",
            "|11/18/2021|06043|       46|     Mariposa County|         CA|                    0.0|                  0|                     0|                          0.0|                     0|                          0.0|                     0|                          0.0|             0.0|                       0|                       0.0|                              0|                                   0.0|                              0|                                   0.0|                              0|                                   0.0|       C|                       null|                             null|                             null|                             null|   Non-metro|                             null|                                   null|                                   null|                                   null|\n",
            "|11/18/2021|19097|       46|      Jackson County|         IA|                   49.2|               9568|                  9568|                         57.4|                  9217|                         60.9|                  3491|                         84.3|            97.4|                   10100|                      52.0|                          10026|                                  60.1|                           9640|                                  63.7|                           3631|                                  87.7|       A|                          3|                                4|                                4|                                4|   Non-metro|                                7|                                      8|                                      8|                                      8|\n",
            "|11/18/2021|21009|       46|       Barren County|         KY|                   41.5|              18351|                 18351|                         49.1|                 17377|                         51.3|                  5872|                         73.7|            93.9|                   20612|                      46.6|                          20457|                                  54.7|                          19316|                                  57.0|                           6309|                                  79.2|       D|                         15|                               15|                               16|                               16|   Non-metro|                                7|                                      7|                                      8|                                      8|\n",
            "|11/18/2021|27077|       46|Lake of the Woods...|         MN|                   51.8|               1939|                  1937|                         58.8|                  1860|                         61.1|                   809|                         85.2|            94.4|                    2044|                      54.7|                           2033|                                  61.7|                           1952|                                  64.1|                            850|                                  89.6|       A|                          4|                                4|                                4|                                4|   Non-metro|                                8|                                      8|                                      8|                                      8|\n",
            "|11/18/2021|72079|       46|     Lajas Municipio|         PR|                   70.7|              15565|                 15562|                         79.3|                 14393|                         79.7|                  4386|                         93.6|            95.8|                   17071|                      77.6|                          16925|                                  86.2|                          15603|                                  86.4|                           4737|                                  99.9|       D|                         16|                               16|                               16|                               16|       Metro|                                4|                                      4|                                      4|                                      4|\n",
            "|11/18/2021|37001|       46|     Alamance County|         NC|                   52.5|              89037|                 88967|                         61.3|                 83448|                         63.1|                 24239|                         83.5|            97.2|                  110827|                      65.4|                         109689|                                  75.6|                         103039|                                  78.0|                          30270|                                  99.9|       D|                         16|                               16|                               16|                               16|       Metro|                                4|                                      4|                                      4|                                      4|\n",
            "|11/18/2021|02180|       46|    Nome Census Area|         AK|                   61.9|               6189|                  6158|                         81.4|                  5379|                         82.2|                   723|                         90.0|            96.7|                    6720|                      67.2|                           6477|                                  85.6|                           5612|                                  85.8|                            761|                                  94.8|       D|                         16|                               16|                               16|                               16|   Non-metro|                                8|                                      8|                                      8|                                      8|\n",
            "|11/18/2021|29113|       46|      Lincoln County|         MO|                   35.8|              21146|                 21145|                         43.1|                 20058|                         45.6|                  5941|                         73.6|            91.2|                   23817|                      40.4|                          23692|                                  48.3|                          22454|                                  51.0|                           6610|                                  81.9|       B|                          6|                                7|                                7|                                8|       Metro|                                2|                                      3|                                      3|                                      4|\n",
            "|11/18/2021|48401|       46|         Rusk County|         TX|                   34.4|              18728|                 18725|                         40.2|                 17881|                         42.2|                  5783|                         62.9|            99.1|                   21377|                      39.3|                          21372|                                  45.8|                          20364|                                  48.0|                           6357|                                  69.1|       D|                         14|                               15|                               15|                               15|       Metro|                                2|                                      3|                                      3|                                      3|\n",
            "|11/18/2021|48379|       46|        Rains County|         TX|                   33.6|               4203|                  4202|                         38.8|                  4083|                         40.9|                  1815|                         58.1|            99.1|                    4738|                      37.9|                           4737|                                  43.8|                           4599|                                  46.0|                           1987|                                  63.6|       B|                          6|                                6|                                7|                                7|   Non-metro|                                6|                                      6|                                      7|                                      7|\n",
            "|11/18/2021|26073|       46|     Isabella County|         MI|                   41.4|              28896|                 28895|                         46.7|                 27359|                         47.4|                  7554|                         81.7|            97.7|                   30702|                      43.9|                          30691|                                  49.6|                          29108|                                  50.4|                           7954|                                  86.1|       C|                         11|                               11|                               11|                               12|   Non-metro|                                7|                                      7|                                      7|                                      8|\n",
            "|11/18/2021|25023|       46|     Plymouth County|         MA|                   62.4|             325292|                324624|                         71.8|                300368|                         73.1|                 81394|                         84.0|            89.6|                  376708|                      72.3|                         371666|                                  82.3|                         343351|                                  83.6|                          96728|                                  99.8|       A|                          4|                                4|                                4|                                4|       Metro|                                4|                                      4|                                      4|                                      4|\n",
            "|11/18/2021|28065|       46|Jefferson Davis C...|         MS|                   40.4|               4492|                  4492|                         46.7|                  4241|                         47.6|                  1484|                         57.7|            98.3|                    5026|                      45.2|                           5015|                                  52.2|                           4724|                                  53.0|                           1558|                                  60.6|       D|                         15|                               15|                               15|                               15|   Non-metro|                                7|                                      7|                                      7|                                      7|\n",
            "|11/18/2021|37081|       46|     Guilford County|         NC|                   55.0|             295312|                295046|                         64.2|                274902|                         65.7|                 71038|                         85.1|            97.2|                  384517|                      71.6|                         380159|                                  82.7|                         355654|                                  85.0|                         101963|                                  99.9|       C|                         12|                               12|                               12|                               12|       Metro|                                4|                                      4|                                      4|                                      4|\n",
            "|11/18/2021|13049|       46|     Charlton County|         GA|                   12.9|               1729|                  1729|                         14.7|                  1627|                         14.9|                   520|                         24.6|            58.3|                    1955|                      14.6|                           1951|                                  16.6|                           1816|                                  16.6|                            555|                                  26.3|       D|                         13|                               13|                               13|                               13|   Non-metro|                                5|                                      5|                                      5|                                      5|\n",
            "|11/18/2021|51067|       46|     Franklin County|         VA|                   40.9|              22931|                 22912|                         46.4|                 21953|                         48.2|                  9101|                         67.2|            82.2|                   25916|                      46.2|                          25813|                                  52.2|                          24700|                                  54.2|                           9815|                                  72.4|       B|                          7|                                7|                                7|                                7|       Metro|                                3|                                      3|                                      3|                                      3|\n",
            "|11/18/2021|13191|       46|     McIntosh County|         GA|                   36.2|               5198|                  5198|                         40.1|                  5007|                         41.3|                  2118|                         52.3|            58.3|                    5738|                      39.9|                           5732|                                  44.2|                           5506|                                  45.5|                           2209|                                  54.6|       C|                         10|                               11|                               11|                               11|       Metro|                                2|                                      3|                                      3|                                      3|\n",
            "+----------+-----+---------+--------------------+-----------+-----------------------+-------------------+----------------------+-----------------------------+----------------------+-----------------------------+----------------------+-----------------------------+----------------+------------------------+--------------------------+-------------------------------+--------------------------------------+-------------------------------+--------------------------------------+-------------------------------+--------------------------------------+--------+---------------------------+---------------------------------+---------------------------------+---------------------------------+------------+---------------------------------+---------------------------------------+---------------------------------------+---------------------------------------+\n",
            "only showing top 20 rows\n",
            "\n"
          ]
        }
      ]
    },
    {
      "cell_type": "code",
      "source": [
        "### adding colums in data frame\n",
        "df_pyspark = df_pyspark.withColumn('akshay',df_pyspark['Series_Complete_Yes']+2)"
      ],
      "metadata": {
        "id": "saEdGz7GD3eS"
      },
      "execution_count": 49,
      "outputs": []
    },
    {
      "cell_type": "code",
      "source": [
        "df_pyspark.show()"
      ],
      "metadata": {
        "colab": {
          "base_uri": "https://localhost:8080/"
        },
        "id": "aigXT3bJGsyZ",
        "outputId": "b1178011-4d2a-465b-ca06-4f0a08d49d60"
      },
      "execution_count": 50,
      "outputs": [
        {
          "output_type": "stream",
          "name": "stdout",
          "text": [
            "+----------+-----+---------+--------------------+-----------+-----------------------+-------------------+----------------------+-----------------------------+----------------------+-----------------------------+----------------------+-----------------------------+----------------+------------------------+--------------------------+-------------------------------+--------------------------------------+-------------------------------+--------------------------------------+-------------------------------+--------------------------------------+--------+---------------------------+---------------------------------+---------------------------------+---------------------------------+------------+---------------------------------+---------------------------------------+---------------------------------------+---------------------------------------+--------+\n",
            "|      Date| FIPS|MMWR_week|        Recip_County|Recip_State|Series_Complete_Pop_Pct|Series_Complete_Yes|Series_Complete_12Plus|Series_Complete_12PlusPop_Pct|Series_Complete_18Plus|Series_Complete_18PlusPop_Pct|Series_Complete_65Plus|Series_Complete_65PlusPop_Pct|Completeness_pct|Administered_Dose1_Recip|Administered_Dose1_Pop_Pct|Administered_Dose1_Recip_12Plus|Administered_Dose1_Recip_12PlusPop_Pct|Administered_Dose1_Recip_18Plus|Administered_Dose1_Recip_18PlusPop_Pct|Administered_Dose1_Recip_65Plus|Administered_Dose1_Recip_65PlusPop_Pct|SVI_CTGY|Series_Complete_Pop_Pct_SVI|Series_Complete_12PlusPop_Pct_SVI|Series_Complete_18PlusPop_Pct_SVI|Series_Complete_65PlusPop_Pct_SVI|Metro_status|Series_Complete_Pop_Pct_UR_Equity|Series_Complete_12PlusPop_Pct_UR_Equity|Series_Complete_18PlusPop_Pct_UR_Equity|Series_Complete_65PlusPop_Pct_UR_Equity|  akshay|\n",
            "+----------+-----+---------+--------------------+-----------+-----------------------+-------------------+----------------------+-----------------------------+----------------------+-----------------------------+----------------------+-----------------------------+----------------+------------------------+--------------------------+-------------------------------+--------------------------------------+-------------------------------+--------------------------------------+-------------------------------+--------------------------------------+--------+---------------------------+---------------------------------+---------------------------------+---------------------------------+------------+---------------------------------+---------------------------------------+---------------------------------------+---------------------------------------+--------+\n",
            "|11/18/2021|05075|       46|     Lawrence County|         AR|                   42.3|               6938|                  6938|                         49.4|                  6534|                         51.2|                  2368|                         72.5|            90.3|                    8148|                      49.7|                           8127|                                  57.8|                           7650|                                  59.9|                           2701|                                  82.6|       C|                         11|                               11|                               12|                               12|   Non-metro|                                7|                                      7|                                      8|                                      8|  6940.0|\n",
            "|11/18/2021|01053|       46|     Escambia County|         AL|                   33.1|              12112|                 12112|                         38.8|                 11677|                         41.1|                  4562|                         68.2|            92.6|                   15552|                      42.5|                          15543|                                  49.8|                          14991|                                  52.8|                           5835|                                  87.2|       D|                         14|                               14|                               15|                               15|   Non-metro|                                6|                                      6|                                      7|                                      7| 12114.0|\n",
            "|11/18/2021|19171|       46|         Tama County|         IA|                     58|               9777|                  9777|                         68.8|                  9132|                         71.3|                  3057|                         91.1|            97.4|                   10430|                      61.9|                          10400|                                  73.1|                           9659|                                  75.4|                           3140|                                  93.6|       B|                          8|                                8|                                8|                                8|   Non-metro|                                8|                                      8|                                      8|                                      8|  9779.0|\n",
            "|11/18/2021|06043|       46|     Mariposa County|         CA|                      0|                  0|                     0|                            0|                     0|                            0|                     0|                            0|               0|                       0|                         0|                              0|                                   0.0|                              0|                                     0|                              0|                                     0|       C|                       null|                             null|                             null|                             null|   Non-metro|                             null|                                   null|                                   null|                                   null|     2.0|\n",
            "|11/18/2021|19097|       46|      Jackson County|         IA|                   49.2|               9568|                  9568|                         57.4|                  9217|                         60.9|                  3491|                         84.3|            97.4|                   10100|                        52|                          10026|                                  60.1|                           9640|                                  63.7|                           3631|                                  87.7|       A|                          3|                                4|                                4|                                4|   Non-metro|                                7|                                      8|                                      8|                                      8|  9570.0|\n",
            "|11/18/2021|21009|       46|       Barren County|         KY|                   41.5|              18351|                 18351|                         49.1|                 17377|                         51.3|                  5872|                         73.7|            93.9|                   20612|                      46.6|                          20457|                                  54.7|                          19316|                                    57|                           6309|                                  79.2|       D|                         15|                               15|                               16|                               16|   Non-metro|                                7|                                      7|                                      8|                                      8| 18353.0|\n",
            "|11/18/2021|27077|       46|Lake of the Woods...|         MN|                   51.8|               1939|                  1937|                         58.8|                  1860|                         61.1|                   809|                         85.2|            94.4|                    2044|                      54.7|                           2033|                                  61.7|                           1952|                                  64.1|                            850|                                  89.6|       A|                          4|                                4|                                4|                                4|   Non-metro|                                8|                                      8|                                      8|                                      8|  1941.0|\n",
            "|11/18/2021|72079|       46|     Lajas Municipio|         PR|                   70.7|              15565|                 15562|                         79.3|                 14393|                         79.7|                  4386|                         93.6|            95.8|                   17071|                      77.6|                          16925|                                  86.2|                          15603|                                  86.4|                           4737|                                  99.9|       D|                         16|                               16|                               16|                               16|       Metro|                                4|                                      4|                                      4|                                      4| 15567.0|\n",
            "|11/18/2021|37001|       46|     Alamance County|         NC|                   52.5|              89037|                 88967|                         61.3|                 83448|                         63.1|                 24239|                         83.5|            97.2|                  110827|                      65.4|                         109689|                                  75.6|                         103039|                                    78|                          30270|                                  99.9|       D|                         16|                               16|                               16|                               16|       Metro|                                4|                                      4|                                      4|                                      4| 89039.0|\n",
            "|11/18/2021|02180|       46|    Nome Census Area|         AK|                   61.9|               6189|                  6158|                         81.4|                  5379|                         82.2|                   723|                           90|            96.7|                    6720|                      67.2|                           6477|                                  85.6|                           5612|                                  85.8|                            761|                                  94.8|       D|                         16|                               16|                               16|                               16|   Non-metro|                                8|                                      8|                                      8|                                      8|  6191.0|\n",
            "|11/18/2021|29113|       46|      Lincoln County|         MO|                   35.8|              21146|                 21145|                         43.1|                 20058|                         45.6|                  5941|                         73.6|            91.2|                   23817|                      40.4|                          23692|                                  48.3|                          22454|                                    51|                           6610|                                  81.9|       B|                          6|                                7|                                7|                                8|       Metro|                                2|                                      3|                                      3|                                      4| 21148.0|\n",
            "|11/18/2021|48401|       46|         Rusk County|         TX|                   34.4|              18728|                 18725|                         40.2|                 17881|                         42.2|                  5783|                         62.9|            99.1|                   21377|                      39.3|                          21372|                                  45.8|                          20364|                                    48|                           6357|                                  69.1|       D|                         14|                               15|                               15|                               15|       Metro|                                2|                                      3|                                      3|                                      3| 18730.0|\n",
            "|11/18/2021|48379|       46|        Rains County|         TX|                   33.6|               4203|                  4202|                         38.8|                  4083|                         40.9|                  1815|                         58.1|            99.1|                    4738|                      37.9|                           4737|                                  43.8|                           4599|                                    46|                           1987|                                  63.6|       B|                          6|                                6|                                7|                                7|   Non-metro|                                6|                                      6|                                      7|                                      7|  4205.0|\n",
            "|11/18/2021|26073|       46|     Isabella County|         MI|                   41.4|              28896|                 28895|                         46.7|                 27359|                         47.4|                  7554|                         81.7|            97.7|                   30702|                      43.9|                          30691|                                  49.6|                          29108|                                  50.4|                           7954|                                  86.1|       C|                         11|                               11|                               11|                               12|   Non-metro|                                7|                                      7|                                      7|                                      8| 28898.0|\n",
            "|11/18/2021|25023|       46|     Plymouth County|         MA|                   62.4|             325292|                324624|                         71.8|                300368|                         73.1|                 81394|                           84|            89.6|                  376708|                      72.3|                         371666|                                  82.3|                         343351|                                  83.6|                          96728|                                  99.8|       A|                          4|                                4|                                4|                                4|       Metro|                                4|                                      4|                                      4|                                      4|325294.0|\n",
            "|11/18/2021|28065|       46|Jefferson Davis C...|         MS|                   40.4|               4492|                  4492|                         46.7|                  4241|                         47.6|                  1484|                         57.7|            98.3|                    5026|                      45.2|                           5015|                                  52.2|                           4724|                                    53|                           1558|                                  60.6|       D|                         15|                               15|                               15|                               15|   Non-metro|                                7|                                      7|                                      7|                                      7|  4494.0|\n",
            "|11/18/2021|37081|       46|     Guilford County|         NC|                     55|             295312|                295046|                         64.2|                274902|                         65.7|                 71038|                         85.1|            97.2|                  384517|                      71.6|                         380159|                                  82.7|                         355654|                                    85|                         101963|                                  99.9|       C|                         12|                               12|                               12|                               12|       Metro|                                4|                                      4|                                      4|                                      4|295314.0|\n",
            "|11/18/2021|13049|       46|     Charlton County|         GA|                   12.9|               1729|                  1729|                         14.7|                  1627|                         14.9|                   520|                         24.6|            58.3|                    1955|                      14.6|                           1951|                                  16.6|                           1816|                                  16.6|                            555|                                  26.3|       D|                         13|                               13|                               13|                               13|   Non-metro|                                5|                                      5|                                      5|                                      5|  1731.0|\n",
            "|11/18/2021|51067|       46|     Franklin County|         VA|                   40.9|              22931|                 22912|                         46.4|                 21953|                         48.2|                  9101|                         67.2|            82.2|                   25916|                      46.2|                          25813|                                  52.2|                          24700|                                  54.2|                           9815|                                  72.4|       B|                          7|                                7|                                7|                                7|       Metro|                                3|                                      3|                                      3|                                      3| 22933.0|\n",
            "|11/18/2021|13191|       46|     McIntosh County|         GA|                   36.2|               5198|                  5198|                         40.1|                  5007|                         41.3|                  2118|                         52.3|            58.3|                    5738|                      39.9|                           5732|                                  44.2|                           5506|                                  45.5|                           2209|                                  54.6|       C|                         10|                               11|                               11|                               11|       Metro|                                2|                                      3|                                      3|                                      3|  5200.0|\n",
            "+----------+-----+---------+--------------------+-----------+-----------------------+-------------------+----------------------+-----------------------------+----------------------+-----------------------------+----------------------+-----------------------------+----------------+------------------------+--------------------------+-------------------------------+--------------------------------------+-------------------------------+--------------------------------------+-------------------------------+--------------------------------------+--------+---------------------------+---------------------------------+---------------------------------+---------------------------------+------------+---------------------------------+---------------------------------------+---------------------------------------+---------------------------------------+--------+\n",
            "only showing top 20 rows\n",
            "\n"
          ]
        }
      ]
    },
    {
      "cell_type": "code",
      "source": [
        "### Drop the colums\n",
        "ak = df_pyspark.drop('Recip_County','Date')"
      ],
      "metadata": {
        "id": "_34ispirEoRJ"
      },
      "execution_count": 54,
      "outputs": []
    },
    {
      "cell_type": "code",
      "source": [
        "ak.show()"
      ],
      "metadata": {
        "colab": {
          "base_uri": "https://localhost:8080/"
        },
        "id": "pkgGtgbWGcXW",
        "outputId": "3801b474-704e-405b-8874-56247366733a"
      },
      "execution_count": 55,
      "outputs": [
        {
          "output_type": "stream",
          "name": "stdout",
          "text": [
            "+-----+---------+-----------+-----------------------+-------------------+----------------------+-----------------------------+----------------------+-----------------------------+----------------------+-----------------------------+----------------+------------------------+--------------------------+-------------------------------+--------------------------------------+-------------------------------+--------------------------------------+-------------------------------+--------------------------------------+--------+---------------------------+---------------------------------+---------------------------------+---------------------------------+------------+---------------------------------+---------------------------------------+---------------------------------------+---------------------------------------+--------+\n",
            "| FIPS|MMWR_week|Recip_State|Series_Complete_Pop_Pct|Series_Complete_Yes|Series_Complete_12Plus|Series_Complete_12PlusPop_Pct|Series_Complete_18Plus|Series_Complete_18PlusPop_Pct|Series_Complete_65Plus|Series_Complete_65PlusPop_Pct|Completeness_pct|Administered_Dose1_Recip|Administered_Dose1_Pop_Pct|Administered_Dose1_Recip_12Plus|Administered_Dose1_Recip_12PlusPop_Pct|Administered_Dose1_Recip_18Plus|Administered_Dose1_Recip_18PlusPop_Pct|Administered_Dose1_Recip_65Plus|Administered_Dose1_Recip_65PlusPop_Pct|SVI_CTGY|Series_Complete_Pop_Pct_SVI|Series_Complete_12PlusPop_Pct_SVI|Series_Complete_18PlusPop_Pct_SVI|Series_Complete_65PlusPop_Pct_SVI|Metro_status|Series_Complete_Pop_Pct_UR_Equity|Series_Complete_12PlusPop_Pct_UR_Equity|Series_Complete_18PlusPop_Pct_UR_Equity|Series_Complete_65PlusPop_Pct_UR_Equity|  akshay|\n",
            "+-----+---------+-----------+-----------------------+-------------------+----------------------+-----------------------------+----------------------+-----------------------------+----------------------+-----------------------------+----------------+------------------------+--------------------------+-------------------------------+--------------------------------------+-------------------------------+--------------------------------------+-------------------------------+--------------------------------------+--------+---------------------------+---------------------------------+---------------------------------+---------------------------------+------------+---------------------------------+---------------------------------------+---------------------------------------+---------------------------------------+--------+\n",
            "|05075|       46|         AR|                   42.3|               6938|                  6938|                         49.4|                  6534|                         51.2|                  2368|                         72.5|            90.3|                    8148|                      49.7|                           8127|                                  57.8|                           7650|                                  59.9|                           2701|                                  82.6|       C|                         11|                               11|                               12|                               12|   Non-metro|                                7|                                      7|                                      8|                                      8|  6940.0|\n",
            "|01053|       46|         AL|                   33.1|              12112|                 12112|                         38.8|                 11677|                         41.1|                  4562|                         68.2|            92.6|                   15552|                      42.5|                          15543|                                  49.8|                          14991|                                  52.8|                           5835|                                  87.2|       D|                         14|                               14|                               15|                               15|   Non-metro|                                6|                                      6|                                      7|                                      7| 12114.0|\n",
            "|19171|       46|         IA|                     58|               9777|                  9777|                         68.8|                  9132|                         71.3|                  3057|                         91.1|            97.4|                   10430|                      61.9|                          10400|                                  73.1|                           9659|                                  75.4|                           3140|                                  93.6|       B|                          8|                                8|                                8|                                8|   Non-metro|                                8|                                      8|                                      8|                                      8|  9779.0|\n",
            "|06043|       46|         CA|                      0|                  0|                     0|                            0|                     0|                            0|                     0|                            0|               0|                       0|                         0|                              0|                                   0.0|                              0|                                     0|                              0|                                     0|       C|                       null|                             null|                             null|                             null|   Non-metro|                             null|                                   null|                                   null|                                   null|     2.0|\n",
            "|19097|       46|         IA|                   49.2|               9568|                  9568|                         57.4|                  9217|                         60.9|                  3491|                         84.3|            97.4|                   10100|                        52|                          10026|                                  60.1|                           9640|                                  63.7|                           3631|                                  87.7|       A|                          3|                                4|                                4|                                4|   Non-metro|                                7|                                      8|                                      8|                                      8|  9570.0|\n",
            "|21009|       46|         KY|                   41.5|              18351|                 18351|                         49.1|                 17377|                         51.3|                  5872|                         73.7|            93.9|                   20612|                      46.6|                          20457|                                  54.7|                          19316|                                    57|                           6309|                                  79.2|       D|                         15|                               15|                               16|                               16|   Non-metro|                                7|                                      7|                                      8|                                      8| 18353.0|\n",
            "|27077|       46|         MN|                   51.8|               1939|                  1937|                         58.8|                  1860|                         61.1|                   809|                         85.2|            94.4|                    2044|                      54.7|                           2033|                                  61.7|                           1952|                                  64.1|                            850|                                  89.6|       A|                          4|                                4|                                4|                                4|   Non-metro|                                8|                                      8|                                      8|                                      8|  1941.0|\n",
            "|72079|       46|         PR|                   70.7|              15565|                 15562|                         79.3|                 14393|                         79.7|                  4386|                         93.6|            95.8|                   17071|                      77.6|                          16925|                                  86.2|                          15603|                                  86.4|                           4737|                                  99.9|       D|                         16|                               16|                               16|                               16|       Metro|                                4|                                      4|                                      4|                                      4| 15567.0|\n",
            "|37001|       46|         NC|                   52.5|              89037|                 88967|                         61.3|                 83448|                         63.1|                 24239|                         83.5|            97.2|                  110827|                      65.4|                         109689|                                  75.6|                         103039|                                    78|                          30270|                                  99.9|       D|                         16|                               16|                               16|                               16|       Metro|                                4|                                      4|                                      4|                                      4| 89039.0|\n",
            "|02180|       46|         AK|                   61.9|               6189|                  6158|                         81.4|                  5379|                         82.2|                   723|                           90|            96.7|                    6720|                      67.2|                           6477|                                  85.6|                           5612|                                  85.8|                            761|                                  94.8|       D|                         16|                               16|                               16|                               16|   Non-metro|                                8|                                      8|                                      8|                                      8|  6191.0|\n",
            "|29113|       46|         MO|                   35.8|              21146|                 21145|                         43.1|                 20058|                         45.6|                  5941|                         73.6|            91.2|                   23817|                      40.4|                          23692|                                  48.3|                          22454|                                    51|                           6610|                                  81.9|       B|                          6|                                7|                                7|                                8|       Metro|                                2|                                      3|                                      3|                                      4| 21148.0|\n",
            "|48401|       46|         TX|                   34.4|              18728|                 18725|                         40.2|                 17881|                         42.2|                  5783|                         62.9|            99.1|                   21377|                      39.3|                          21372|                                  45.8|                          20364|                                    48|                           6357|                                  69.1|       D|                         14|                               15|                               15|                               15|       Metro|                                2|                                      3|                                      3|                                      3| 18730.0|\n",
            "|48379|       46|         TX|                   33.6|               4203|                  4202|                         38.8|                  4083|                         40.9|                  1815|                         58.1|            99.1|                    4738|                      37.9|                           4737|                                  43.8|                           4599|                                    46|                           1987|                                  63.6|       B|                          6|                                6|                                7|                                7|   Non-metro|                                6|                                      6|                                      7|                                      7|  4205.0|\n",
            "|26073|       46|         MI|                   41.4|              28896|                 28895|                         46.7|                 27359|                         47.4|                  7554|                         81.7|            97.7|                   30702|                      43.9|                          30691|                                  49.6|                          29108|                                  50.4|                           7954|                                  86.1|       C|                         11|                               11|                               11|                               12|   Non-metro|                                7|                                      7|                                      7|                                      8| 28898.0|\n",
            "|25023|       46|         MA|                   62.4|             325292|                324624|                         71.8|                300368|                         73.1|                 81394|                           84|            89.6|                  376708|                      72.3|                         371666|                                  82.3|                         343351|                                  83.6|                          96728|                                  99.8|       A|                          4|                                4|                                4|                                4|       Metro|                                4|                                      4|                                      4|                                      4|325294.0|\n",
            "|28065|       46|         MS|                   40.4|               4492|                  4492|                         46.7|                  4241|                         47.6|                  1484|                         57.7|            98.3|                    5026|                      45.2|                           5015|                                  52.2|                           4724|                                    53|                           1558|                                  60.6|       D|                         15|                               15|                               15|                               15|   Non-metro|                                7|                                      7|                                      7|                                      7|  4494.0|\n",
            "|37081|       46|         NC|                     55|             295312|                295046|                         64.2|                274902|                         65.7|                 71038|                         85.1|            97.2|                  384517|                      71.6|                         380159|                                  82.7|                         355654|                                    85|                         101963|                                  99.9|       C|                         12|                               12|                               12|                               12|       Metro|                                4|                                      4|                                      4|                                      4|295314.0|\n",
            "|13049|       46|         GA|                   12.9|               1729|                  1729|                         14.7|                  1627|                         14.9|                   520|                         24.6|            58.3|                    1955|                      14.6|                           1951|                                  16.6|                           1816|                                  16.6|                            555|                                  26.3|       D|                         13|                               13|                               13|                               13|   Non-metro|                                5|                                      5|                                      5|                                      5|  1731.0|\n",
            "|51067|       46|         VA|                   40.9|              22931|                 22912|                         46.4|                 21953|                         48.2|                  9101|                         67.2|            82.2|                   25916|                      46.2|                          25813|                                  52.2|                          24700|                                  54.2|                           9815|                                  72.4|       B|                          7|                                7|                                7|                                7|       Metro|                                3|                                      3|                                      3|                                      3| 22933.0|\n",
            "|13191|       46|         GA|                   36.2|               5198|                  5198|                         40.1|                  5007|                         41.3|                  2118|                         52.3|            58.3|                    5738|                      39.9|                           5732|                                  44.2|                           5506|                                  45.5|                           2209|                                  54.6|       C|                         10|                               11|                               11|                               11|       Metro|                                2|                                      3|                                      3|                                      3|  5200.0|\n",
            "+-----+---------+-----------+-----------------------+-------------------+----------------------+-----------------------------+----------------------+-----------------------------+----------------------+-----------------------------+----------------+------------------------+--------------------------+-------------------------------+--------------------------------------+-------------------------------+--------------------------------------+-------------------------------+--------------------------------------+--------+---------------------------+---------------------------------+---------------------------------+---------------------------------+------------+---------------------------------+---------------------------------------+---------------------------------------+---------------------------------------+--------+\n",
            "only showing top 20 rows\n",
            "\n"
          ]
        }
      ]
    },
    {
      "cell_type": "code",
      "source": [
        "### rename the colums\n",
        "df_pyspark.withColumnRenamed('Recip_County','usa_state').show()"
      ],
      "metadata": {
        "colab": {
          "base_uri": "https://localhost:8080/"
        },
        "id": "ykdXNnUUHAUr",
        "outputId": "c6d5728f-3f2f-4505-8bec-ee529de5b875"
      },
      "execution_count": 59,
      "outputs": [
        {
          "output_type": "stream",
          "name": "stdout",
          "text": [
            "+----------+-----+---------+--------------------+-----------+-----------------------+-------------------+----------------------+-----------------------------+----------------------+-----------------------------+----------------------+-----------------------------+----------------+------------------------+--------------------------+-------------------------------+--------------------------------------+-------------------------------+--------------------------------------+-------------------------------+--------------------------------------+--------+---------------------------+---------------------------------+---------------------------------+---------------------------------+------------+---------------------------------+---------------------------------------+---------------------------------------+---------------------------------------+--------+\n",
            "|      Date| FIPS|MMWR_week|           usa_state|Recip_State|Series_Complete_Pop_Pct|Series_Complete_Yes|Series_Complete_12Plus|Series_Complete_12PlusPop_Pct|Series_Complete_18Plus|Series_Complete_18PlusPop_Pct|Series_Complete_65Plus|Series_Complete_65PlusPop_Pct|Completeness_pct|Administered_Dose1_Recip|Administered_Dose1_Pop_Pct|Administered_Dose1_Recip_12Plus|Administered_Dose1_Recip_12PlusPop_Pct|Administered_Dose1_Recip_18Plus|Administered_Dose1_Recip_18PlusPop_Pct|Administered_Dose1_Recip_65Plus|Administered_Dose1_Recip_65PlusPop_Pct|SVI_CTGY|Series_Complete_Pop_Pct_SVI|Series_Complete_12PlusPop_Pct_SVI|Series_Complete_18PlusPop_Pct_SVI|Series_Complete_65PlusPop_Pct_SVI|Metro_status|Series_Complete_Pop_Pct_UR_Equity|Series_Complete_12PlusPop_Pct_UR_Equity|Series_Complete_18PlusPop_Pct_UR_Equity|Series_Complete_65PlusPop_Pct_UR_Equity|  akshay|\n",
            "+----------+-----+---------+--------------------+-----------+-----------------------+-------------------+----------------------+-----------------------------+----------------------+-----------------------------+----------------------+-----------------------------+----------------+------------------------+--------------------------+-------------------------------+--------------------------------------+-------------------------------+--------------------------------------+-------------------------------+--------------------------------------+--------+---------------------------+---------------------------------+---------------------------------+---------------------------------+------------+---------------------------------+---------------------------------------+---------------------------------------+---------------------------------------+--------+\n",
            "|11/18/2021|05075|       46|     Lawrence County|         AR|                   42.3|               6938|                  6938|                         49.4|                  6534|                         51.2|                  2368|                         72.5|            90.3|                    8148|                      49.7|                           8127|                                  57.8|                           7650|                                  59.9|                           2701|                                  82.6|       C|                         11|                               11|                               12|                               12|   Non-metro|                                7|                                      7|                                      8|                                      8|  6940.0|\n",
            "|11/18/2021|01053|       46|     Escambia County|         AL|                   33.1|              12112|                 12112|                         38.8|                 11677|                         41.1|                  4562|                         68.2|            92.6|                   15552|                      42.5|                          15543|                                  49.8|                          14991|                                  52.8|                           5835|                                  87.2|       D|                         14|                               14|                               15|                               15|   Non-metro|                                6|                                      6|                                      7|                                      7| 12114.0|\n",
            "|11/18/2021|19171|       46|         Tama County|         IA|                     58|               9777|                  9777|                         68.8|                  9132|                         71.3|                  3057|                         91.1|            97.4|                   10430|                      61.9|                          10400|                                  73.1|                           9659|                                  75.4|                           3140|                                  93.6|       B|                          8|                                8|                                8|                                8|   Non-metro|                                8|                                      8|                                      8|                                      8|  9779.0|\n",
            "|11/18/2021|06043|       46|     Mariposa County|         CA|                      0|                  0|                     0|                            0|                     0|                            0|                     0|                            0|               0|                       0|                         0|                              0|                                   0.0|                              0|                                     0|                              0|                                     0|       C|                       null|                             null|                             null|                             null|   Non-metro|                             null|                                   null|                                   null|                                   null|     2.0|\n",
            "|11/18/2021|19097|       46|      Jackson County|         IA|                   49.2|               9568|                  9568|                         57.4|                  9217|                         60.9|                  3491|                         84.3|            97.4|                   10100|                        52|                          10026|                                  60.1|                           9640|                                  63.7|                           3631|                                  87.7|       A|                          3|                                4|                                4|                                4|   Non-metro|                                7|                                      8|                                      8|                                      8|  9570.0|\n",
            "|11/18/2021|21009|       46|       Barren County|         KY|                   41.5|              18351|                 18351|                         49.1|                 17377|                         51.3|                  5872|                         73.7|            93.9|                   20612|                      46.6|                          20457|                                  54.7|                          19316|                                    57|                           6309|                                  79.2|       D|                         15|                               15|                               16|                               16|   Non-metro|                                7|                                      7|                                      8|                                      8| 18353.0|\n",
            "|11/18/2021|27077|       46|Lake of the Woods...|         MN|                   51.8|               1939|                  1937|                         58.8|                  1860|                         61.1|                   809|                         85.2|            94.4|                    2044|                      54.7|                           2033|                                  61.7|                           1952|                                  64.1|                            850|                                  89.6|       A|                          4|                                4|                                4|                                4|   Non-metro|                                8|                                      8|                                      8|                                      8|  1941.0|\n",
            "|11/18/2021|72079|       46|     Lajas Municipio|         PR|                   70.7|              15565|                 15562|                         79.3|                 14393|                         79.7|                  4386|                         93.6|            95.8|                   17071|                      77.6|                          16925|                                  86.2|                          15603|                                  86.4|                           4737|                                  99.9|       D|                         16|                               16|                               16|                               16|       Metro|                                4|                                      4|                                      4|                                      4| 15567.0|\n",
            "|11/18/2021|37001|       46|     Alamance County|         NC|                   52.5|              89037|                 88967|                         61.3|                 83448|                         63.1|                 24239|                         83.5|            97.2|                  110827|                      65.4|                         109689|                                  75.6|                         103039|                                    78|                          30270|                                  99.9|       D|                         16|                               16|                               16|                               16|       Metro|                                4|                                      4|                                      4|                                      4| 89039.0|\n",
            "|11/18/2021|02180|       46|    Nome Census Area|         AK|                   61.9|               6189|                  6158|                         81.4|                  5379|                         82.2|                   723|                           90|            96.7|                    6720|                      67.2|                           6477|                                  85.6|                           5612|                                  85.8|                            761|                                  94.8|       D|                         16|                               16|                               16|                               16|   Non-metro|                                8|                                      8|                                      8|                                      8|  6191.0|\n",
            "|11/18/2021|29113|       46|      Lincoln County|         MO|                   35.8|              21146|                 21145|                         43.1|                 20058|                         45.6|                  5941|                         73.6|            91.2|                   23817|                      40.4|                          23692|                                  48.3|                          22454|                                    51|                           6610|                                  81.9|       B|                          6|                                7|                                7|                                8|       Metro|                                2|                                      3|                                      3|                                      4| 21148.0|\n",
            "|11/18/2021|48401|       46|         Rusk County|         TX|                   34.4|              18728|                 18725|                         40.2|                 17881|                         42.2|                  5783|                         62.9|            99.1|                   21377|                      39.3|                          21372|                                  45.8|                          20364|                                    48|                           6357|                                  69.1|       D|                         14|                               15|                               15|                               15|       Metro|                                2|                                      3|                                      3|                                      3| 18730.0|\n",
            "|11/18/2021|48379|       46|        Rains County|         TX|                   33.6|               4203|                  4202|                         38.8|                  4083|                         40.9|                  1815|                         58.1|            99.1|                    4738|                      37.9|                           4737|                                  43.8|                           4599|                                    46|                           1987|                                  63.6|       B|                          6|                                6|                                7|                                7|   Non-metro|                                6|                                      6|                                      7|                                      7|  4205.0|\n",
            "|11/18/2021|26073|       46|     Isabella County|         MI|                   41.4|              28896|                 28895|                         46.7|                 27359|                         47.4|                  7554|                         81.7|            97.7|                   30702|                      43.9|                          30691|                                  49.6|                          29108|                                  50.4|                           7954|                                  86.1|       C|                         11|                               11|                               11|                               12|   Non-metro|                                7|                                      7|                                      7|                                      8| 28898.0|\n",
            "|11/18/2021|25023|       46|     Plymouth County|         MA|                   62.4|             325292|                324624|                         71.8|                300368|                         73.1|                 81394|                           84|            89.6|                  376708|                      72.3|                         371666|                                  82.3|                         343351|                                  83.6|                          96728|                                  99.8|       A|                          4|                                4|                                4|                                4|       Metro|                                4|                                      4|                                      4|                                      4|325294.0|\n",
            "|11/18/2021|28065|       46|Jefferson Davis C...|         MS|                   40.4|               4492|                  4492|                         46.7|                  4241|                         47.6|                  1484|                         57.7|            98.3|                    5026|                      45.2|                           5015|                                  52.2|                           4724|                                    53|                           1558|                                  60.6|       D|                         15|                               15|                               15|                               15|   Non-metro|                                7|                                      7|                                      7|                                      7|  4494.0|\n",
            "|11/18/2021|37081|       46|     Guilford County|         NC|                     55|             295312|                295046|                         64.2|                274902|                         65.7|                 71038|                         85.1|            97.2|                  384517|                      71.6|                         380159|                                  82.7|                         355654|                                    85|                         101963|                                  99.9|       C|                         12|                               12|                               12|                               12|       Metro|                                4|                                      4|                                      4|                                      4|295314.0|\n",
            "|11/18/2021|13049|       46|     Charlton County|         GA|                   12.9|               1729|                  1729|                         14.7|                  1627|                         14.9|                   520|                         24.6|            58.3|                    1955|                      14.6|                           1951|                                  16.6|                           1816|                                  16.6|                            555|                                  26.3|       D|                         13|                               13|                               13|                               13|   Non-metro|                                5|                                      5|                                      5|                                      5|  1731.0|\n",
            "|11/18/2021|51067|       46|     Franklin County|         VA|                   40.9|              22931|                 22912|                         46.4|                 21953|                         48.2|                  9101|                         67.2|            82.2|                   25916|                      46.2|                          25813|                                  52.2|                          24700|                                  54.2|                           9815|                                  72.4|       B|                          7|                                7|                                7|                                7|       Metro|                                3|                                      3|                                      3|                                      3| 22933.0|\n",
            "|11/18/2021|13191|       46|     McIntosh County|         GA|                   36.2|               5198|                  5198|                         40.1|                  5007|                         41.3|                  2118|                         52.3|            58.3|                    5738|                      39.9|                           5732|                                  44.2|                           5506|                                  45.5|                           2209|                                  54.6|       C|                         10|                               11|                               11|                               11|       Metro|                                2|                                      3|                                      3|                                      3|  5200.0|\n",
            "+----------+-----+---------+--------------------+-----------+-----------------------+-------------------+----------------------+-----------------------------+----------------------+-----------------------------+----------------------+-----------------------------+----------------+------------------------+--------------------------+-------------------------------+--------------------------------------+-------------------------------+--------------------------------------+-------------------------------+--------------------------------------+--------+---------------------------+---------------------------------+---------------------------------+---------------------------------+------------+---------------------------------+---------------------------------------+---------------------------------------+---------------------------------------+--------+\n",
            "only showing top 20 rows\n",
            "\n"
          ]
        }
      ]
    },
    {
      "cell_type": "code",
      "source": [
        ""
      ],
      "metadata": {
        "id": "dMGDlIjKHpxb"
      },
      "execution_count": null,
      "outputs": []
    }
  ]
}